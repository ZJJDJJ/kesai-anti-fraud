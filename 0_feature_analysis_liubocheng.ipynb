{
 "cells": [
  {
   "cell_type": "markdown",
   "metadata": {},
   "source": [
    "# Quick Start\n",
    "\n",
    "\n",
    "- 数据本身的基本统计分析\n",
    "- 研究问题本身，找到相关的强特征，建立一个简单的线性回归"
   ]
  },
  {
   "cell_type": "markdown",
   "metadata": {},
   "source": [
    "## 读入数据\n",
    "\n",
    "\n",
    "- 训练数据 15000 persion, 136万条数据，770个负样本。"
   ]
  },
  {
   "cell_type": "code",
   "execution_count": 1,
   "metadata": {},
   "outputs": [],
   "source": [
    "# 读入数据\n",
    "import pandas as pd\n",
    "dat = pd.read_csv('data/train.tsv', sep='\\t')"
   ]
  },
  {
   "cell_type": "code",
   "execution_count": 2,
   "metadata": {
    "scrolled": true
   },
   "outputs": [
    {
     "data": {
      "text/plain": [
       "(1368146, 55)"
      ]
     },
     "execution_count": 2,
     "metadata": {},
     "output_type": "execute_result"
    }
   ],
   "source": [
    "dat.shape"
   ]
  },
  {
   "cell_type": "code",
   "execution_count": 3,
   "metadata": {},
   "outputs": [
    {
     "data": {
      "text/html": [
       "<div>\n",
       "<style scoped>\n",
       "    .dataframe tbody tr th:only-of-type {\n",
       "        vertical-align: middle;\n",
       "    }\n",
       "\n",
       "    .dataframe tbody tr th {\n",
       "        vertical-align: top;\n",
       "    }\n",
       "\n",
       "    .dataframe thead th {\n",
       "        text-align: right;\n",
       "    }\n",
       "</style>\n",
       "<table border=\"1\" class=\"dataframe\">\n",
       "  <thead>\n",
       "    <tr style=\"text-align: right;\">\n",
       "      <th></th>\n",
       "      <th>PERSONID</th>\n",
       "      <th>APPLYNO</th>\n",
       "      <th>FTR0</th>\n",
       "      <th>FTR1</th>\n",
       "      <th>FTR2</th>\n",
       "      <th>FTR3</th>\n",
       "      <th>FTR4</th>\n",
       "      <th>FTR5</th>\n",
       "      <th>FTR6</th>\n",
       "      <th>FTR7</th>\n",
       "      <th>...</th>\n",
       "      <th>FTR43</th>\n",
       "      <th>FTR44</th>\n",
       "      <th>FTR45</th>\n",
       "      <th>FTR46</th>\n",
       "      <th>FTR47</th>\n",
       "      <th>FTR48</th>\n",
       "      <th>FTR49</th>\n",
       "      <th>FTR50</th>\n",
       "      <th>FTR51</th>\n",
       "      <th>CREATETIME</th>\n",
       "    </tr>\n",
       "  </thead>\n",
       "  <tbody>\n",
       "    <tr>\n",
       "      <th>0</th>\n",
       "      <td>8ba94305557a4ec72435a9eb78001350</td>\n",
       "      <td>20fab21284e57a4ccd3127553920e37b</td>\n",
       "      <td>0.050000</td>\n",
       "      <td>0.0</td>\n",
       "      <td>0.0</td>\n",
       "      <td>0.0</td>\n",
       "      <td>0.0</td>\n",
       "      <td>0.000000</td>\n",
       "      <td>0.0</td>\n",
       "      <td>0.0</td>\n",
       "      <td>...</td>\n",
       "      <td>0.000832</td>\n",
       "      <td>0.050000</td>\n",
       "      <td>0.0</td>\n",
       "      <td>0.0</td>\n",
       "      <td>0.000000</td>\n",
       "      <td>0.050012</td>\n",
       "      <td>0.0</td>\n",
       "      <td>0.001532</td>\n",
       "      <td>A2B186C398E0D0</td>\n",
       "      <td>2015-09-14</td>\n",
       "    </tr>\n",
       "    <tr>\n",
       "      <th>1</th>\n",
       "      <td>8ba94305557a4ec72435a9eb78001350</td>\n",
       "      <td>73f32b8b6e199129abb8fe0cb6d6c867</td>\n",
       "      <td>0.033333</td>\n",
       "      <td>0.0</td>\n",
       "      <td>0.0</td>\n",
       "      <td>0.0</td>\n",
       "      <td>0.0</td>\n",
       "      <td>0.007829</td>\n",
       "      <td>0.0</td>\n",
       "      <td>0.0</td>\n",
       "      <td>...</td>\n",
       "      <td>0.002801</td>\n",
       "      <td>0.033333</td>\n",
       "      <td>0.0</td>\n",
       "      <td>0.0</td>\n",
       "      <td>0.000000</td>\n",
       "      <td>0.033333</td>\n",
       "      <td>0.0</td>\n",
       "      <td>0.005156</td>\n",
       "      <td>A24B176C1239E0D0</td>\n",
       "      <td>2015-09-14</td>\n",
       "    </tr>\n",
       "    <tr>\n",
       "      <th>2</th>\n",
       "      <td>8ba94305557a4ec72435a9eb78001350</td>\n",
       "      <td>324da7a0b1a5c1d3b321685d734a9dc8</td>\n",
       "      <td>0.050000</td>\n",
       "      <td>0.0</td>\n",
       "      <td>0.0</td>\n",
       "      <td>0.0</td>\n",
       "      <td>0.0</td>\n",
       "      <td>0.000000</td>\n",
       "      <td>0.0</td>\n",
       "      <td>0.0</td>\n",
       "      <td>...</td>\n",
       "      <td>0.000000</td>\n",
       "      <td>0.050000</td>\n",
       "      <td>0.0</td>\n",
       "      <td>0.0</td>\n",
       "      <td>0.000023</td>\n",
       "      <td>0.050000</td>\n",
       "      <td>0.0</td>\n",
       "      <td>0.000000</td>\n",
       "      <td>A0B0C6E0D0</td>\n",
       "      <td>2015-09-14</td>\n",
       "    </tr>\n",
       "    <tr>\n",
       "      <th>3</th>\n",
       "      <td>8ba94305557a4ec72435a9eb78001350</td>\n",
       "      <td>341ceb4ae7b0ca1c46653f5a116d4bd2</td>\n",
       "      <td>0.050000</td>\n",
       "      <td>0.0</td>\n",
       "      <td>0.0</td>\n",
       "      <td>0.0</td>\n",
       "      <td>0.0</td>\n",
       "      <td>0.000000</td>\n",
       "      <td>0.0</td>\n",
       "      <td>0.0</td>\n",
       "      <td>...</td>\n",
       "      <td>0.000000</td>\n",
       "      <td>0.050000</td>\n",
       "      <td>0.0</td>\n",
       "      <td>0.0</td>\n",
       "      <td>0.000023</td>\n",
       "      <td>0.050000</td>\n",
       "      <td>0.0</td>\n",
       "      <td>0.000000</td>\n",
       "      <td>A0B0C6E0D0</td>\n",
       "      <td>2015-10-16</td>\n",
       "    </tr>\n",
       "    <tr>\n",
       "      <th>4</th>\n",
       "      <td>8ba94305557a4ec72435a9eb78001350</td>\n",
       "      <td>ca260c60e62de319e38a475e2455afb8</td>\n",
       "      <td>0.050000</td>\n",
       "      <td>0.0</td>\n",
       "      <td>0.0</td>\n",
       "      <td>0.0</td>\n",
       "      <td>0.0</td>\n",
       "      <td>0.007829</td>\n",
       "      <td>0.0</td>\n",
       "      <td>0.0</td>\n",
       "      <td>...</td>\n",
       "      <td>0.002801</td>\n",
       "      <td>0.050000</td>\n",
       "      <td>0.0</td>\n",
       "      <td>0.0</td>\n",
       "      <td>0.000000</td>\n",
       "      <td>0.050000</td>\n",
       "      <td>0.0</td>\n",
       "      <td>0.005156</td>\n",
       "      <td>A24B176C1239E0D0</td>\n",
       "      <td>2015-10-16</td>\n",
       "    </tr>\n",
       "  </tbody>\n",
       "</table>\n",
       "<p>5 rows × 55 columns</p>\n",
       "</div>"
      ],
      "text/plain": [
       "                           PERSONID                           APPLYNO  \\\n",
       "0  8ba94305557a4ec72435a9eb78001350  20fab21284e57a4ccd3127553920e37b   \n",
       "1  8ba94305557a4ec72435a9eb78001350  73f32b8b6e199129abb8fe0cb6d6c867   \n",
       "2  8ba94305557a4ec72435a9eb78001350  324da7a0b1a5c1d3b321685d734a9dc8   \n",
       "3  8ba94305557a4ec72435a9eb78001350  341ceb4ae7b0ca1c46653f5a116d4bd2   \n",
       "4  8ba94305557a4ec72435a9eb78001350  ca260c60e62de319e38a475e2455afb8   \n",
       "\n",
       "       FTR0  FTR1  FTR2  FTR3  FTR4      FTR5  FTR6  FTR7     ...      \\\n",
       "0  0.050000   0.0   0.0   0.0   0.0  0.000000   0.0   0.0     ...       \n",
       "1  0.033333   0.0   0.0   0.0   0.0  0.007829   0.0   0.0     ...       \n",
       "2  0.050000   0.0   0.0   0.0   0.0  0.000000   0.0   0.0     ...       \n",
       "3  0.050000   0.0   0.0   0.0   0.0  0.000000   0.0   0.0     ...       \n",
       "4  0.050000   0.0   0.0   0.0   0.0  0.007829   0.0   0.0     ...       \n",
       "\n",
       "      FTR43     FTR44  FTR45  FTR46     FTR47     FTR48  FTR49     FTR50  \\\n",
       "0  0.000832  0.050000    0.0    0.0  0.000000  0.050012    0.0  0.001532   \n",
       "1  0.002801  0.033333    0.0    0.0  0.000000  0.033333    0.0  0.005156   \n",
       "2  0.000000  0.050000    0.0    0.0  0.000023  0.050000    0.0  0.000000   \n",
       "3  0.000000  0.050000    0.0    0.0  0.000023  0.050000    0.0  0.000000   \n",
       "4  0.002801  0.050000    0.0    0.0  0.000000  0.050000    0.0  0.005156   \n",
       "\n",
       "              FTR51  CREATETIME  \n",
       "0    A2B186C398E0D0  2015-09-14  \n",
       "1  A24B176C1239E0D0  2015-09-14  \n",
       "2        A0B0C6E0D0  2015-09-14  \n",
       "3        A0B0C6E0D0  2015-10-16  \n",
       "4  A24B176C1239E0D0  2015-10-16  \n",
       "\n",
       "[5 rows x 55 columns]"
      ]
     },
     "execution_count": 3,
     "metadata": {},
     "output_type": "execute_result"
    }
   ],
   "source": [
    "dat.head()"
   ]
  },
  {
   "cell_type": "code",
   "execution_count": 4,
   "metadata": {},
   "outputs": [],
   "source": [
    "dat_id = pd.read_csv('data/train_id.tsv', sep='\\t')"
   ]
  },
  {
   "cell_type": "code",
   "execution_count": 5,
   "metadata": {
    "scrolled": true
   },
   "outputs": [
    {
     "data": {
      "text/plain": [
       "(15000, 2)"
      ]
     },
     "execution_count": 5,
     "metadata": {},
     "output_type": "execute_result"
    }
   ],
   "source": [
    "dat_id.shape"
   ]
  },
  {
   "cell_type": "code",
   "execution_count": 6,
   "metadata": {},
   "outputs": [
    {
     "data": {
      "text/html": [
       "<div>\n",
       "<style scoped>\n",
       "    .dataframe tbody tr th:only-of-type {\n",
       "        vertical-align: middle;\n",
       "    }\n",
       "\n",
       "    .dataframe tbody tr th {\n",
       "        vertical-align: top;\n",
       "    }\n",
       "\n",
       "    .dataframe thead th {\n",
       "        text-align: right;\n",
       "    }\n",
       "</style>\n",
       "<table border=\"1\" class=\"dataframe\">\n",
       "  <thead>\n",
       "    <tr style=\"text-align: right;\">\n",
       "      <th></th>\n",
       "      <th>PERSONID</th>\n",
       "      <th>LABEL</th>\n",
       "    </tr>\n",
       "  </thead>\n",
       "  <tbody>\n",
       "    <tr>\n",
       "      <th>0</th>\n",
       "      <td>8ba94305557a4ec72435a9eb78001350</td>\n",
       "      <td>0</td>\n",
       "    </tr>\n",
       "    <tr>\n",
       "      <th>1</th>\n",
       "      <td>505d2a4db5dd353b775b5a30a731c02d</td>\n",
       "      <td>0</td>\n",
       "    </tr>\n",
       "    <tr>\n",
       "      <th>2</th>\n",
       "      <td>737f6cee33b47a3857b65186f5f6251e</td>\n",
       "      <td>0</td>\n",
       "    </tr>\n",
       "    <tr>\n",
       "      <th>3</th>\n",
       "      <td>3933908961f8e1780ff0b87cc5e4401d</td>\n",
       "      <td>0</td>\n",
       "    </tr>\n",
       "    <tr>\n",
       "      <th>4</th>\n",
       "      <td>c15b755463ae71dd54fa4b39d95f5170</td>\n",
       "      <td>0</td>\n",
       "    </tr>\n",
       "  </tbody>\n",
       "</table>\n",
       "</div>"
      ],
      "text/plain": [
       "                           PERSONID  LABEL\n",
       "0  8ba94305557a4ec72435a9eb78001350      0\n",
       "1  505d2a4db5dd353b775b5a30a731c02d      0\n",
       "2  737f6cee33b47a3857b65186f5f6251e      0\n",
       "3  3933908961f8e1780ff0b87cc5e4401d      0\n",
       "4  c15b755463ae71dd54fa4b39d95f5170      0"
      ]
     },
     "execution_count": 6,
     "metadata": {},
     "output_type": "execute_result"
    }
   ],
   "source": [
    "dat_id.head()"
   ]
  },
  {
   "cell_type": "code",
   "execution_count": 7,
   "metadata": {},
   "outputs": [
    {
     "data": {
      "text/plain": [
       "770"
      ]
     },
     "execution_count": 7,
     "metadata": {},
     "output_type": "execute_result"
    }
   ],
   "source": [
    "(dat_id['LABEL'] == 1).sum()"
   ]
  },
  {
   "cell_type": "markdown",
   "metadata": {},
   "source": [
    "## pandas 入门\n",
    "\n",
    "https://blog.csdn.net/zhu418766417/article/details/52718063"
   ]
  },
  {
   "cell_type": "code",
   "execution_count": 8,
   "metadata": {},
   "outputs": [],
   "source": [
    "import pandas as pd\n",
    "import numpy as np\n",
    "import matplotlib.pyplot as plt"
   ]
  },
  {
   "cell_type": "code",
   "execution_count": 9,
   "metadata": {},
   "outputs": [],
   "source": [
    " s = pd.Series([1,3,5,np.nan,6,8])"
   ]
  },
  {
   "cell_type": "code",
   "execution_count": 10,
   "metadata": {},
   "outputs": [
    {
     "data": {
      "text/plain": [
       "0    1.0\n",
       "1    3.0\n",
       "2    5.0\n",
       "3    NaN\n",
       "4    6.0\n",
       "5    8.0\n",
       "dtype: float64"
      ]
     },
     "execution_count": 10,
     "metadata": {},
     "output_type": "execute_result"
    }
   ],
   "source": [
    "s"
   ]
  },
  {
   "cell_type": "code",
   "execution_count": null,
   "metadata": {},
   "outputs": [],
   "source": []
  }
 ],
 "metadata": {
  "kernelspec": {
   "display_name": "Python 3",
   "language": "python",
   "name": "python3"
  },
  "language_info": {
   "codemirror_mode": {
    "name": "ipython",
    "version": 3
   },
   "file_extension": ".py",
   "mimetype": "text/x-python",
   "name": "python",
   "nbconvert_exporter": "python",
   "pygments_lexer": "ipython3",
   "version": "3.6.5"
  },
  "toc": {
   "base_numbering": 1,
   "nav_menu": {},
   "number_sections": true,
   "sideBar": true,
   "skip_h1_title": false,
   "title_cell": "Table of Contents",
   "title_sidebar": "Contents",
   "toc_cell": false,
   "toc_position": {},
   "toc_section_display": true,
   "toc_window_display": true
  }
 },
 "nbformat": 4,
 "nbformat_minor": 2
}
